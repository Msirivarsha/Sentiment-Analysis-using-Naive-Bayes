{
 "cells": [
  {
   "cell_type": "markdown",
   "id": "d73cf04f",
   "metadata": {},
   "source": [
    "### 1. Importing Libraries"
   ]
  },
  {
   "cell_type": "code",
   "execution_count": 7,
   "id": "8235a56d",
   "metadata": {},
   "outputs": [],
   "source": [
    "import re\n",
    "import nltk\n",
    "import joblib\n",
    "import pickle\n",
    "import pandas as pd\n",
    "from tqdm import tqdm\n",
    "from nltk.corpus import stopwords\n",
    "from nltk.stem import PorterStemmer\n",
    "\n",
    "from sklearn.metrics import accuracy_score,confusion_matrix\n",
    "from sklearn.naive_bayes import MultinomialNB\n",
    "from sklearn.feature_extraction.text import TfidfVectorizer\n",
    "\n",
    "stemmer=PorterStemmer()"
   ]
  },
  {
   "cell_type": "markdown",
   "id": "6eca0900",
   "metadata": {},
   "source": [
    "### 2.Defining Functions"
   ]
  },
  {
   "cell_type": "code",
   "execution_count": 2,
   "id": "b3854c7b",
   "metadata": {},
   "outputs": [],
   "source": [
    "def loading_tweets(file_name):\n",
    "    df=pd.read_csv(file_name,header=None)\n",
    "    df=df.rename({0:'id',1:'company',2:'sentiment',3:'raw_tweet'},axis=1)\n",
    "\n",
    "    df=df[df['sentiment']!='Irrelevant']\n",
    "    df=df[df['sentiment']!='Neutral']\n",
    "    df=df.dropna()\n",
    "    return df['raw_tweet'].values,df\n",
    "def preprocessing_tweets(tweets):\n",
    "    processed_tweets=[]\n",
    "    for tweet in tqdm(tweets):\n",
    "        tweet=re.sub(r'[^a-zA-Z]',' ',tweet)\n",
    "        tweet=tweet.lower()\n",
    "        tweet=[word for word in tweet.split(' ') if word not in stopwords.words('english')]\n",
    "        tweet=[stemmer.stem(word) for word in tweet]\n",
    "        tweet=[word for word in tweet if len(word)!=0]\n",
    "        tweet=' '.join(tweet)\n",
    "        processed_tweets.append(tweet)\n",
    "    return tweets"
   ]
  },
  {
   "cell_type": "markdown",
   "id": "6fbb046a",
   "metadata": {},
   "source": [
    "### 3. Preparining Training Data"
   ]
  },
  {
   "cell_type": "code",
   "execution_count": 3,
   "id": "67bf5c24",
   "metadata": {},
   "outputs": [
    {
     "name": "stderr",
     "output_type": "stream",
     "text": [
      "100%|████████████████████████████████████████████████████████████████████████████| 43013/43013 [07:13<00:00, 99.28it/s]\n"
     ]
    }
   ],
   "source": [
    "train_tweets,df_train=loading_tweets('tweets/twitter_training.csv')\n",
    "train_tweets=preprocessing_tweets(train_tweets)\n",
    "\n",
    "tfidf=TfidfVectorizer()\n",
    "train_tweets=tfidf.fit_transform(train_tweets)\n",
    "\n",
    "x_train=train_tweets.toarray()\n",
    "y_train=pd.get_dummies(df_train['sentiment']).values[:,1:]"
   ]
  },
  {
   "cell_type": "markdown",
   "id": "3e1b04bb",
   "metadata": {},
   "source": [
    "### 4. Preparing Testing Data"
   ]
  },
  {
   "cell_type": "code",
   "execution_count": 5,
   "id": "de3d8560",
   "metadata": {},
   "outputs": [
    {
     "name": "stderr",
     "output_type": "stream",
     "text": [
      "100%|████████████████████████████████████████████████████████████████████████████████| 543/543 [00:05<00:00, 92.89it/s]\n"
     ]
    }
   ],
   "source": [
    "test_tweets,df_test=loading_tweets('tweets/twitter_validation.csv')\n",
    "test_tweets=preprocessing_tweets(test_tweets)\n",
    "\n",
    "test_tweets=tfidf.transform(test_tweets)\n",
    "\n",
    "x_test=test_tweets.toarray()\n",
    "y_test=pd.get_dummies(df_test['sentiment']).values[:,1:]"
   ]
  },
  {
   "cell_type": "markdown",
   "id": "b3bc575f",
   "metadata": {},
   "source": [
    "### 5. Model Building / Training"
   ]
  },
  {
   "cell_type": "code",
   "execution_count": 6,
   "id": "4c893535",
   "metadata": {},
   "outputs": [
    {
     "name": "stderr",
     "output_type": "stream",
     "text": [
      "C:\\Users\\91991\\anaconda3\\Lib\\site-packages\\sklearn\\utils\\validation.py:1184: DataConversionWarning: A column-vector y was passed when a 1d array was expected. Please change the shape of y to (n_samples, ), for example using ravel().\n",
      "  y = column_or_1d(y, warn=True)\n"
     ]
    },
    {
     "data": {
      "text/html": [
       "<style>#sk-container-id-1 {color: black;}#sk-container-id-1 pre{padding: 0;}#sk-container-id-1 div.sk-toggleable {background-color: white;}#sk-container-id-1 label.sk-toggleable__label {cursor: pointer;display: block;width: 100%;margin-bottom: 0;padding: 0.3em;box-sizing: border-box;text-align: center;}#sk-container-id-1 label.sk-toggleable__label-arrow:before {content: \"▸\";float: left;margin-right: 0.25em;color: #696969;}#sk-container-id-1 label.sk-toggleable__label-arrow:hover:before {color: black;}#sk-container-id-1 div.sk-estimator:hover label.sk-toggleable__label-arrow:before {color: black;}#sk-container-id-1 div.sk-toggleable__content {max-height: 0;max-width: 0;overflow: hidden;text-align: left;background-color: #f0f8ff;}#sk-container-id-1 div.sk-toggleable__content pre {margin: 0.2em;color: black;border-radius: 0.25em;background-color: #f0f8ff;}#sk-container-id-1 input.sk-toggleable__control:checked~div.sk-toggleable__content {max-height: 200px;max-width: 100%;overflow: auto;}#sk-container-id-1 input.sk-toggleable__control:checked~label.sk-toggleable__label-arrow:before {content: \"▾\";}#sk-container-id-1 div.sk-estimator input.sk-toggleable__control:checked~label.sk-toggleable__label {background-color: #d4ebff;}#sk-container-id-1 div.sk-label input.sk-toggleable__control:checked~label.sk-toggleable__label {background-color: #d4ebff;}#sk-container-id-1 input.sk-hidden--visually {border: 0;clip: rect(1px 1px 1px 1px);clip: rect(1px, 1px, 1px, 1px);height: 1px;margin: -1px;overflow: hidden;padding: 0;position: absolute;width: 1px;}#sk-container-id-1 div.sk-estimator {font-family: monospace;background-color: #f0f8ff;border: 1px dotted black;border-radius: 0.25em;box-sizing: border-box;margin-bottom: 0.5em;}#sk-container-id-1 div.sk-estimator:hover {background-color: #d4ebff;}#sk-container-id-1 div.sk-parallel-item::after {content: \"\";width: 100%;border-bottom: 1px solid gray;flex-grow: 1;}#sk-container-id-1 div.sk-label:hover label.sk-toggleable__label {background-color: #d4ebff;}#sk-container-id-1 div.sk-serial::before {content: \"\";position: absolute;border-left: 1px solid gray;box-sizing: border-box;top: 0;bottom: 0;left: 50%;z-index: 0;}#sk-container-id-1 div.sk-serial {display: flex;flex-direction: column;align-items: center;background-color: white;padding-right: 0.2em;padding-left: 0.2em;position: relative;}#sk-container-id-1 div.sk-item {position: relative;z-index: 1;}#sk-container-id-1 div.sk-parallel {display: flex;align-items: stretch;justify-content: center;background-color: white;position: relative;}#sk-container-id-1 div.sk-item::before, #sk-container-id-1 div.sk-parallel-item::before {content: \"\";position: absolute;border-left: 1px solid gray;box-sizing: border-box;top: 0;bottom: 0;left: 50%;z-index: -1;}#sk-container-id-1 div.sk-parallel-item {display: flex;flex-direction: column;z-index: 1;position: relative;background-color: white;}#sk-container-id-1 div.sk-parallel-item:first-child::after {align-self: flex-end;width: 50%;}#sk-container-id-1 div.sk-parallel-item:last-child::after {align-self: flex-start;width: 50%;}#sk-container-id-1 div.sk-parallel-item:only-child::after {width: 0;}#sk-container-id-1 div.sk-dashed-wrapped {border: 1px dashed gray;margin: 0 0.4em 0.5em 0.4em;box-sizing: border-box;padding-bottom: 0.4em;background-color: white;}#sk-container-id-1 div.sk-label label {font-family: monospace;font-weight: bold;display: inline-block;line-height: 1.2em;}#sk-container-id-1 div.sk-label-container {text-align: center;}#sk-container-id-1 div.sk-container {/* jupyter's `normalize.less` sets `[hidden] { display: none; }` but bootstrap.min.css set `[hidden] { display: none !important; }` so we also need the `!important` here to be able to override the default hidden behavior on the sphinx rendered scikit-learn.org. See: https://github.com/scikit-learn/scikit-learn/issues/21755 */display: inline-block !important;position: relative;}#sk-container-id-1 div.sk-text-repr-fallback {display: none;}</style><div id=\"sk-container-id-1\" class=\"sk-top-container\"><div class=\"sk-text-repr-fallback\"><pre>MultinomialNB()</pre><b>In a Jupyter environment, please rerun this cell to show the HTML representation or trust the notebook. <br />On GitHub, the HTML representation is unable to render, please try loading this page with nbviewer.org.</b></div><div class=\"sk-container\" hidden><div class=\"sk-item\"><div class=\"sk-estimator sk-toggleable\"><input class=\"sk-toggleable__control sk-hidden--visually\" id=\"sk-estimator-id-1\" type=\"checkbox\" checked><label for=\"sk-estimator-id-1\" class=\"sk-toggleable__label sk-toggleable__label-arrow\">MultinomialNB</label><div class=\"sk-toggleable__content\"><pre>MultinomialNB()</pre></div></div></div></div></div>"
      ],
      "text/plain": [
       "MultinomialNB()"
      ]
     },
     "execution_count": 6,
     "metadata": {},
     "output_type": "execute_result"
    }
   ],
   "source": [
    "mdl=MultinomialNB()\n",
    "\n",
    "mdl.fit(x_train,y_train)"
   ]
  },
  {
   "cell_type": "markdown",
   "id": "a8174785",
   "metadata": {},
   "source": [
    "### 6. Model Evaluation "
   ]
  },
  {
   "cell_type": "code",
   "execution_count": 15,
   "id": "fe397056",
   "metadata": {},
   "outputs": [
    {
     "name": "stdout",
     "output_type": "stream",
     "text": [
      "Testing Accuracy :  94.107\n",
      "Training Accuracy :  91.607\n"
     ]
    }
   ],
   "source": [
    "print(\"Testing Accuracy : \",round(accuracy_score(mdl.predict(x_test),y_test)*100,3))\n",
    "print(\"Training Accuracy : \",round(accuracy_score(mdl.predict(x_train),y_train)*100,3))"
   ]
  },
  {
   "cell_type": "markdown",
   "id": "83e174cc",
   "metadata": {},
   "source": [
    "### 7. Model Saving  & Encoder"
   ]
  },
  {
   "cell_type": "code",
   "execution_count": 17,
   "id": "328c4f36",
   "metadata": {},
   "outputs": [
    {
     "name": "stdout",
     "output_type": "stream",
     "text": [
      "encoder is saved with name tfidf_model.joblib!\n",
      "encoder is saved with name model.mdl!\n"
     ]
    }
   ],
   "source": [
    "joblib.dump(tfidf,'tfidf_model.joblib')     # TF-IDF Encoder\n",
    "pickle.dump(mdl,open('model.mdl','wb'))     # Model\n",
    "\n",
    "print('encoder is saved with name tfidf_model.joblib!')\n",
    "print('encoder is saved with name model.mdl!')"
   ]
  }
 ],
 "metadata": {
  "kernelspec": {
   "display_name": "Python 3 (ipykernel)",
   "language": "python",
   "name": "python3"
  },
  "language_info": {
   "codemirror_mode": {
    "name": "ipython",
    "version": 3
   },
   "file_extension": ".py",
   "mimetype": "text/x-python",
   "name": "python",
   "nbconvert_exporter": "python",
   "pygments_lexer": "ipython3",
   "version": "3.11.5"
  }
 },
 "nbformat": 4,
 "nbformat_minor": 5
}
